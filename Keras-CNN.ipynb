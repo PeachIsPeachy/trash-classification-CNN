{
 "cells": [
  {
   "cell_type": "code",
   "execution_count": 18,
   "metadata": {},
   "outputs": [],
   "source": [
    "import numpy as np\n",
    "import matplotlib.pyplot as plt\n",
    "import os\n",
    "import cv2\n",
    "from tensorflow import keras\n",
    "from keras.models import Sequential\n",
    "import tensorflow as tf\n",
    "from keras import models\n",
    "from tensorflow import keras\n",
    "from keras.preprocessing.image import ImageDataGenerator\n",
    "from keras.callbacks import EarlyStopping\n",
    "from sklearn.model_selection import train_test_split\n",
    "from keras.utils.np_utils import to_categorical\n",
    "from sklearn.model_selection import StratifiedKFold\n"
   ]
  },
  {
   "cell_type": "code",
   "execution_count": 19,
   "metadata": {},
   "outputs": [
    {
     "name": "stdout",
     "output_type": "stream",
     "text": [
      "1\n"
     ]
    }
   ],
   "source": [
    "import tensorflow as tf\n",
    "devices = tf.config.list_physical_devices('GPU')\n",
    "print(len(devices)) "
   ]
  },
  {
   "cell_type": "code",
   "execution_count": 20,
   "metadata": {},
   "outputs": [],
   "source": [
    "IMG_SIZE = 150\n",
    "DIR = r\"D:/untitled_project\"\n",
    "DATADIR = r\"D:/Downloads/dataset-20221127T044932Z-001/dataset\"\n",
    "TEST_DIR = r\"D:/testing\"\n",
    "CATEGORIES = [\"glass\", \"metal\", \"paper\", \"plastic\"]\n",
    "# CATEGORIES_TESTING = [\"cardboard\",\"glass1\",\"metal\", \"paper\", \"plastic\"]"
   ]
  },
  {
   "cell_type": "code",
   "execution_count": 21,
   "metadata": {},
   "outputs": [],
   "source": [
    "all_images_array = []\n",
    "all_labels = []\n",
    "for category in CATEGORIES:\n",
    "    path = os.path.join(DATADIR, category)  # path to dogs or cats dir\n",
    "    label = CATEGORIES.index(category)\n",
    "    for img in os.listdir(path):\n",
    "        try:\n",
    "            img_array = cv2.imread(os.path.join(\n",
    "                path, img), cv2.IMREAD_COLOR)\n",
    "            img_array_resized = cv2.resize(img_array, (IMG_SIZE, IMG_SIZE))\n",
    "            # <------------------ NEW PART!!!!\n",
    "            all_images_array.append(img_array_resized)\n",
    "            # <------------------ NEW PART!!!!\n",
    "            all_labels.append(label)\n",
    "            #plt.imshow(img_array_resized, cmap='gray')\n",
    "            # plt.show()\n",
    "        except Exception as e:\n",
    "            pass\n",
    "\n"
   ]
  },
  {
   "cell_type": "code",
   "execution_count": 22,
   "metadata": {},
   "outputs": [],
   "source": [
    "# Split the dataset into train and test sets, with percentage of splitting = 70 / 30 respectively\n",
    "x_train, x_test, y_train, y_test = train_test_split(\n",
    "    all_images_array, all_labels, test_size=0.20, shuffle=True, random_state=77)\n",
    "    "
   ]
  },
  {
   "cell_type": "code",
   "execution_count": 23,
   "metadata": {},
   "outputs": [],
   "source": [
    "# # Create StratifiedKFold object.\n",
    "# skf = StratifiedKFold(n_splits=10, shuffle=True, random_state=1)\n",
    "  \n",
    "# for train_index, test_index in skf.split(all_images_array, all_labels):\n",
    "#     x_train, x_test = x_scaled[train_index], x_scaled[test_index]\n",
    "#     y_train, y_test = y[train_index], y[test_index]"
   ]
  },
  {
   "cell_type": "code",
   "execution_count": 24,
   "metadata": {},
   "outputs": [
    {
     "data": {
      "text/plain": [
       "(2031, 150, 150, 3)"
      ]
     },
     "execution_count": 24,
     "metadata": {},
     "output_type": "execute_result"
    }
   ],
   "source": [
    "# convert x_train, x_test to numpy array\n",
    "\n",
    "x_train = np.array(x_train).reshape(-3, IMG_SIZE, IMG_SIZE, 3)\n",
    "x_test = np.array(x_test).reshape(-3, IMG_SIZE, IMG_SIZE, 3)\n",
    "y_train = np.array(y_train)\n",
    "y_test = np.array(y_test)\n",
    "x_train.shape"
   ]
  },
  {
   "cell_type": "code",
   "execution_count": 25,
   "metadata": {},
   "outputs": [],
   "source": [
    "# Data normalization to convert features to the same scale\n",
    "x_train = x_train.astype('float32')\n",
    "x_test = x_test.astype('float32')"
   ]
  },
  {
   "cell_type": "code",
   "execution_count": 26,
   "metadata": {},
   "outputs": [
    {
     "data": {
      "text/plain": [
       "array([[0., 1., 0., 0.],\n",
       "       [0., 0., 0., 1.],\n",
       "       [0., 1., 0., 0.],\n",
       "       ...,\n",
       "       [1., 0., 0., 0.],\n",
       "       [0., 1., 0., 0.],\n",
       "       [0., 1., 0., 0.]], dtype=float32)"
      ]
     },
     "execution_count": 26,
     "metadata": {},
     "output_type": "execute_result"
    }
   ],
   "source": [
    "num_classes = 4\n",
    "y_train = to_categorical(y_train, num_classes)\n",
    "y_test = to_categorical(y_test, num_classes)\n",
    "\n",
    "y_test\n"
   ]
  },
  {
   "cell_type": "code",
   "execution_count": 27,
   "metadata": {},
   "outputs": [
    {
     "name": "stdout",
     "output_type": "stream",
     "text": [
      "x_train shape: (2031, 150, 150, 3)\n",
      "2031 train samples\n",
      "508 test samples\n"
     ]
    }
   ],
   "source": [
    "x_train = (x_train - np.mean(x_train)) / np.std(x_train)\n",
    "x_test = (x_test - np.mean(x_test)) / np.std(x_test)\n",
    "\n",
    "print('x_train shape:', x_train.shape)\n",
    "print(x_train.shape[0], 'train samples')\n",
    "print(x_test.shape[0], 'test samples')"
   ]
  },
  {
   "cell_type": "code",
   "execution_count": 29,
   "metadata": {},
   "outputs": [],
   "source": [
    "idg = ImageDataGenerator(width_shift_range=0.2,\n",
    "                         height_shift_range=0.2,\n",
    "                         zoom_range=0.3,\n",
    "                         fill_mode='nearest',\n",
    "                         horizontal_flip = True,\n",
    "                         rotation_range=90,\n",
    "\n",
    "                        brightness_range=[0.2,1.0],    \n",
    "                        zca_epsilon=1e-06,  # epsilon for ZCA whitening\n",
    "                      \n",
    "\n",
    "\n",
    "                        shear_range=0.2,  # set range for random shear  <<3<<4  0 => 0.1 => 0.2\n",
    "\n",
    "                        channel_shift_range=0.2,  # set range for random channel shifts     <<5<<6   0.=>0.1=>0.2\n",
    "                        # set mode for filling points outside the input boundaries\n",
    "\n",
    "                        cval=0\n",
    "                        )\n",
    "idg.fit(x_train)\n",
    "\n",
    "train_set = idg.flow(x_train, y_train,batch_size = 32)"
   ]
  },
  {
   "cell_type": "code",
   "execution_count": 30,
   "metadata": {},
   "outputs": [],
   "source": [
    "import tensorflow as tf\n",
    "from tensorflow.keras.datasets import cifar10\n",
    "from tensorflow.keras.preprocessing.image import ImageDataGenerator\n",
    "from tensorflow.keras.models import Sequential\n",
    "from tensorflow.keras.layers import Dense, Dropout, Activation, Flatten\n",
    "from tensorflow.keras.layers import Conv2D, MaxPooling2D\n",
    "from keras.utils import np_utils\n",
    "from tensorflow.keras.optimizers import SGD\n",
    "import pickle\n",
    "import tensorflow as tf\n",
    "from tensorflow import keras\n",
    "from tensorflow.keras.optimizers import SGD\n",
    "\n",
    "import time\n",
    "import random\n",
    "\n",
    "from keras import models\n",
    "\n",
    "\n",
    "\n"
   ]
  },
  {
   "cell_type": "code",
   "execution_count": 31,
   "metadata": {},
   "outputs": [
    {
     "name": "stdout",
     "output_type": "stream",
     "text": [
      "Trial 4 Complete [00h 00m 45s]\n",
      "val_accuracy: 0.5905511975288391\n",
      "\n",
      "Best val_accuracy So Far: 0.5905511975288391\n",
      "Total elapsed time: 00h 04m 31s\n",
      "INFO:tensorflow:Oracle triggered exit\n"
     ]
    }
   ],
   "source": [
    "from kerastuner.tuners import RandomSearch\n",
    "from keras.callbacks import EarlyStopping\n",
    "\n",
    "\n",
    "def build_model(hp):\n",
    "    model = keras.Sequential()\n",
    "    \n",
    "\n",
    "\n",
    "    model.add(keras.layers.AveragePooling2D(6,3,input_shape=(150,150,3)))\n",
    "\n",
    "    for i in range(hp.Int(\"Conv Layers\", min_value=0, max_value=3)):\n",
    "        model.add(keras.layers.Conv2D(hp.Choice(f\"layer_{i}_filters\", [16,32,64]), 3, activation='relu'))\n",
    "    model.add(keras.layers.MaxPool2D(2,2))\n",
    "    model.add(keras.layers.Dropout(0.2))\n",
    "    for i in range(hp.Int(\"Conv Layers\", min_value=0, max_value=5)):\n",
    "        model.add(keras.layers.Conv2D(hp.Choice(f\"layer_{i}_filters\", [32,64,128,256]), 3, activation='relu'))\n",
    "    model.add(keras.layers.MaxPool2D(2,2))\n",
    "\n",
    "    \n",
    "    model.add(keras.layers.Dropout(0.2))\n",
    "    model.add(keras.layers.Flatten())\n",
    "\n",
    "    \n",
    "    model.add(keras.layers.Dense(hp.Choice(\"Dense layer\", [16,32,64, 128, 256, 512]), activation='relu'))\n",
    "    model.add(keras.layers.Dropout(0.2))\n",
    "    model.add(keras.layers.Dense(hp.Choice(\"Dense layer\", [16,32,64, 128,256, 512]), activation='relu'))\n",
    "    model.add(keras.layers.Dropout(0.2))\n",
    "    model.add(keras.layers.Dense(4, activation='softmax'))\n",
    "    opt = SGD(learning_rate = 0.03)\n",
    "    model.compile(optimizer=opt, loss= 'categorical_crossentropy', metrics= ['accuracy'])\n",
    "   \n",
    "\n",
    "\n",
    " \n",
    "   \n",
    "               \n",
    "\n",
    "    \n",
    "    \n",
    "    \n",
    "    \n",
    "     \n",
    "    \n",
    "    return model\n",
    "#using tuner\n",
    "tuner = RandomSearch(\n",
    "    build_model,\n",
    "    objective='val_accuracy',\n",
    "    max_trials= 4,\n",
    "    directory = \"./save_model/\",\n",
    "    project_name='this_model_4',\n",
    "    overwrite = True\n",
    " \n",
    "    \n",
    "    \n",
    " \n",
    ")\n",
    "\n",
    "\n",
    "tuner.search(x_train,y_train , validation_data=(x_test, y_test), epochs=20, batch_size=32,callbacks=[keras.callbacks.TensorBoard(\"./log1/\")])\n",
    "\n",
    "    \n",
    "\n"
   ]
  },
  {
   "cell_type": "code",
   "execution_count": null,
   "metadata": {},
   "outputs": [],
   "source": []
  },
  {
   "cell_type": "code",
   "execution_count": 32,
   "metadata": {},
   "outputs": [],
   "source": [
    "best_model = tuner.get_best_models()[0]\n",
    "# best_hps=tuner.get_best_hyperparameters()[0]\n",
    "# print(f\"\"\"\n",
    "# The hyperparameter search is complete. The optimal number of units in the first densely-connected\n",
    "# layer is {best_hps.get('units')} and the optimal learning rate for the optimizer\n",
    "# is {best_hps.get('learning_rate')}.\n",
    "# \"\"\")"
   ]
  },
  {
   "cell_type": "code",
   "execution_count": 33,
   "metadata": {},
   "outputs": [
    {
     "name": "stdout",
     "output_type": "stream",
     "text": [
      "16/16 [==============================] - 1s 10ms/step - loss: 0.9901 - accuracy: 0.5906\n"
     ]
    },
    {
     "data": {
      "text/plain": [
       "[0.9901143312454224, 0.5905511975288391]"
      ]
     },
     "execution_count": 33,
     "metadata": {},
     "output_type": "execute_result"
    }
   ],
   "source": [
    "best_model.evaluate(x_test,y_test)"
   ]
  },
  {
   "cell_type": "code",
   "execution_count": 34,
   "metadata": {},
   "outputs": [
    {
     "name": "stderr",
     "output_type": "stream",
     "text": [
      "WARNING:absl:Found untraced functions such as _jit_compiled_convolution_op, _jit_compiled_convolution_op, _jit_compiled_convolution_op, _jit_compiled_convolution_op while saving (showing 4 of 4). These functions will not be directly callable after loading.\n"
     ]
    },
    {
     "name": "stdout",
     "output_type": "stream",
     "text": [
      "INFO:tensorflow:Assets written to: ./this_model_4/assets\n"
     ]
    },
    {
     "name": "stderr",
     "output_type": "stream",
     "text": [
      "INFO:tensorflow:Assets written to: ./this_model_4/assets\n"
     ]
    },
    {
     "data": {
      "text/plain": [
       "<tensorflow.python.checkpoint.checkpoint.CheckpointLoadStatus at 0x16c61808f70>"
      ]
     },
     "execution_count": 34,
     "metadata": {},
     "output_type": "execute_result"
    }
   ],
   "source": [
    "# filepath = r\"D:/save_model\"\n",
    "best_model.save(\"./this_model_4/\")\n",
    "  # or model.save(path, save_format='tf')\n",
    "\n",
    "checkpoint = tf.train.Checkpoint(best_model)\n",
    "checkpoint.restore(\"./this_model_4/\").expect_partial()"
   ]
  },
  {
   "cell_type": "code",
   "execution_count": 35,
   "metadata": {},
   "outputs": [],
   "source": [
    "from tensorflow.keras.models import load_model\n",
    "best_model = load_model('./this_model_4/')\n"
   ]
  },
  {
   "cell_type": "code",
   "execution_count": 36,
   "metadata": {},
   "outputs": [
    {
     "name": "stdout",
     "output_type": "stream",
     "text": [
      "16/16 [==============================] - 1s 15ms/step - loss: 0.9901 - accuracy: 0.5906\n"
     ]
    },
    {
     "data": {
      "text/plain": [
       "[0.9901143312454224, 0.5905511975288391]"
      ]
     },
     "execution_count": 36,
     "metadata": {},
     "output_type": "execute_result"
    }
   ],
   "source": [
    "best_model.evaluate(x_test, y_test)"
   ]
  },
  {
   "cell_type": "code",
   "execution_count": 37,
   "metadata": {},
   "outputs": [],
   "source": [
    "tensorboard_callback = tf.keras.callbacks.TensorBoard('./log1/')"
   ]
  },
  {
   "cell_type": "code",
   "execution_count": 39,
   "metadata": {},
   "outputs": [
    {
     "name": "stderr",
     "output_type": "stream",
     "text": [
      "C:\\Users\\USER\\AppData\\Local\\Temp\\ipykernel_4776\\71479913.py:2: UserWarning: `Model.fit_generator` is deprecated and will be removed in a future version. Please use `Model.fit`, which supports generators.\n",
      "  history = best_model.fit_generator(train_set,steps_per_epoch = 63, validation_data=(x_test,y_test), epochs=10,callbacks=[keras.callbacks.TensorBoard(\"./log1/\")])\n"
     ]
    },
    {
     "name": "stdout",
     "output_type": "stream",
     "text": [
      "Epoch 1/10\n",
      "63/63 [==============================] - 14s 212ms/step - loss: 1.3127 - accuracy: 0.3687 - val_loss: 1.0786 - val_accuracy: 0.5728\n",
      "Epoch 2/10\n",
      "63/63 [==============================] - 11s 173ms/step - loss: 1.2863 - accuracy: 0.3797 - val_loss: 1.0710 - val_accuracy: 0.5492\n",
      "Epoch 3/10\n",
      "63/63 [==============================] - 11s 177ms/step - loss: 1.2658 - accuracy: 0.4082 - val_loss: 1.0806 - val_accuracy: 0.5394\n",
      "Epoch 4/10\n",
      "63/63 [==============================] - 11s 180ms/step - loss: 1.2719 - accuracy: 0.3982 - val_loss: 1.0523 - val_accuracy: 0.5413\n",
      "Epoch 5/10\n",
      "63/63 [==============================] - 12s 182ms/step - loss: 1.2595 - accuracy: 0.3997 - val_loss: 1.0851 - val_accuracy: 0.5157\n",
      "Epoch 6/10\n",
      "63/63 [==============================] - 11s 181ms/step - loss: 1.2354 - accuracy: 0.4202 - val_loss: 1.1138 - val_accuracy: 0.5020\n",
      "Epoch 7/10\n",
      "63/63 [==============================] - 11s 181ms/step - loss: 1.2662 - accuracy: 0.3992 - val_loss: 1.0620 - val_accuracy: 0.5217\n",
      "Epoch 8/10\n",
      "63/63 [==============================] - 11s 177ms/step - loss: 1.2438 - accuracy: 0.4202 - val_loss: 1.0999 - val_accuracy: 0.5000\n",
      "Epoch 9/10\n",
      "63/63 [==============================] - 11s 178ms/step - loss: 1.2224 - accuracy: 0.4157 - val_loss: 1.0741 - val_accuracy: 0.5630\n",
      "Epoch 10/10\n",
      "63/63 [==============================] - 11s 171ms/step - loss: 1.2586 - accuracy: 0.4222 - val_loss: 1.0819 - val_accuracy: 0.5335\n"
     ]
    }
   ],
   "source": [
    "# history = best_model.fit(x_train, y_train, validation_data=(x_test,y_test), epochs=7, batch_size=32,callbacks=[keras.callbacks.TensorBoard(\"./log/\")])\n",
    "history = best_model.fit_generator(train_set,steps_per_epoch = 63, validation_data=(x_test,y_test), epochs=10,callbacks=[keras.callbacks.TensorBoard(\"./log1/\")])\n"
   ]
  },
  {
   "cell_type": "code",
   "execution_count": 40,
   "metadata": {},
   "outputs": [
    {
     "data": {
      "image/png": "[encoded data removed]",
      "text/plain": [
       "<Figure size 640x480 with 1 Axes>"
      ]
     },
     "metadata": {},
     "output_type": "display_data"
    }
   ],
   "source": [
    "fig = plt.figure()\n",
    "plt.plot(history.history['loss'], color='teal', label='loss')\n",
    "plt.plot(history.history['val_loss'], color='orange', label='val_loss')\n",
    "fig.suptitle('Loss', fontsize=20)\n",
    "plt.legend(loc=\"upper left\")\n",
    "plt.show()"
   ]
  },
  {
   "cell_type": "code",
   "execution_count": 41,
   "metadata": {},
   "outputs": [
    {
     "data": {
      "image/png": "[encoded data removed]",
      "text/plain": [
       "<Figure size 640x480 with 1 Axes>"
      ]
     },
     "metadata": {},
     "output_type": "display_data"
    }
   ],
   "source": [
    "fig = plt.figure()\n",
    "plt.plot(history.history['accuracy'], color='teal', label='accuracy')\n",
    "plt.plot(history.history['val_accuracy'], color='orange', label='val_accuracy')\n",
    "fig.suptitle('Accuracy', fontsize=20)\n",
    "plt.legend(loc=\"upper left\")\n",
    "plt.show()"
   ]
  },
  {
   "cell_type": "code",
   "execution_count": 42,
   "metadata": {},
   "outputs": [
    {
     "name": "stdout",
     "output_type": "stream",
     "text": [
      "16/16 [==============================] - 0s 6ms/step\n"
     ]
    },
    {
     "data": {
      "text/plain": [
       "array([[0.75862069, 0.23611111, 0.09322034, 0.21917808],\n",
       "       [0.13793103, 0.56597222, 0.12711864, 0.21917808],\n",
       "       [0.        , 0.04861111, 0.47457627, 0.15068493],\n",
       "       [0.10344828, 0.14930556, 0.30508475, 0.4109589 ]])"
      ]
     },
     "execution_count": 42,
     "metadata": {},
     "output_type": "execute_result"
    }
   ],
   "source": [
    "#Predict\n",
    "\n",
    "from sklearn.metrics import confusion_matrix,classification_report\n",
    "y_prediction = best_model.predict(x_test)\n",
    "y_test = np.argmax(y_test, axis=1)\n",
    "y_prediction = np.argmax(y_prediction, axis=1)\n",
    "\n",
    "\n",
    "#Create confusion matrix and normalizes it over predicted (columns)\n",
    "\n",
    "# print('Confusion Matrix')\n",
    "# confusion_matrix(y_test, y_prediction)\n",
    "confusion_matrix(y_test, y_prediction, normalize='pred')\n",
    "\n",
    "# print('Classification Report')\n",
    "# target_names = ['glass', 'metal', 'paper', 'plastic']\n",
    "# print(classification_report(y_test, y_pred, target_names=target_names))\n",
    "# matrix = metrics.confusion_matrix(y_test.argmax(axis=1), y_pred.argmax(axis=1))"
   ]
  },
  {
   "cell_type": "code",
   "execution_count": 43,
   "metadata": {},
   "outputs": [
    {
     "ename": "NameError",
     "evalue": "name 'CATEGORIES_TESTING' is not defined",
     "output_type": "error",
     "traceback": [
      "\u001b[1;31m---------------------------------------------------------------------------\u001b[0m",
      "\u001b[1;31mNameError\u001b[0m                                 Traceback (most recent call last)",
      "Cell \u001b[1;32mIn [43], line 2\u001b[0m\n\u001b[0;32m      1\u001b[0m out_test_set \u001b[39m=\u001b[39m []\n\u001b[1;32m----> 2\u001b[0m \u001b[39mfor\u001b[39;00m category \u001b[39min\u001b[39;00m CATEGORIES_TESTING :\n\u001b[0;32m      3\u001b[0m     path \u001b[39m=\u001b[39m os\u001b[39m.\u001b[39mpath\u001b[39m.\u001b[39mjoin(TEST_DIR, category)  \u001b[39m# path to dogs or cats dir\u001b[39;00m\n\u001b[0;32m      4\u001b[0m     test_label \u001b[39m=\u001b[39m CATEGORIES_TESTING\u001b[39m.\u001b[39mindex(category)\n",
      "\u001b[1;31mNameError\u001b[0m: name 'CATEGORIES_TESTING' is not defined"
     ]
    }
   ],
   "source": [
    "out_test_set = []\n",
    "for category in CATEGORIES_TESTING :\n",
    "    path = os.path.join(TEST_DIR, category)  # path to dogs or cats dir\n",
    "    test_label = CATEGORIES_TESTING.index(category)\n",
    "    for img in os.listdir(path):\n",
    "        try:\n",
    "            test_img_array = cv2.imread(os.path.join(\n",
    "                path, img), cv2.IMREAD_COLOR)\n",
    "            test_img_array_resized = cv2.resize(test_img_array, (IMG_SIZE, IMG_SIZE))\n",
    "            out_test_set.append([test_img_array_resized, test_label])\n",
    "        except Exception as e:\n",
    "            pass"
   ]
  },
  {
   "cell_type": "code",
   "execution_count": null,
   "metadata": {},
   "outputs": [],
   "source": [
    "# import random\n",
    "\n",
    "random.shuffle(out_test_set)"
   ]
  },
  {
   "cell_type": "code",
   "execution_count": null,
   "metadata": {},
   "outputs": [],
   "source": [
    "# A few random samples\n",
    "use_samples = [5, 12,13,20]\n",
    "samples_to_predict = []\n",
    "\n",
    "# Generate plots for samples\n",
    "for sample in use_samples:\n",
    "  # Generate a plot\n",
    "  reshaped_image = out_test_set[sample].reshape(-1,150, 150,1)\n",
    "  plt.imshow(reshaped_image)\n",
    "  plt.show()\n",
    "  # Add sample to array for prediction\n",
    "  samples_to_predict.append(out_test_set[sample])\n",
    "\n",
    "# Convert into Numpy array\n",
    "samples_to_predict = np.array(samples_to_predict)\n",
    "print(samples_to_predict.shape)\n",
    "\n",
    "# Generate predictions for samples\n",
    "predictions = model.predict(samples_to_predict)\n",
    "print(predictions)\n",
    "\n",
    "# Generate arg maxes for predictions\n",
    "classes = np.argmax(predictions, axis = 1)\n",
    "\n",
    "\n",
    "if classes == 0:\n",
    "    print(\"out is cardboard\")\n",
    "elif classes == 1:\n",
    "    print(\"out is glass\")\n",
    "elif classes == 2:\n",
    "    print(\"out is metal\")\n",
    "elif clasess == 3:\n",
    "    print(\"out is paper\")\n",
    "\n",
    "else:\n",
    "    print(\"out is plastic\")\n"
   ]
  },
  {
   "cell_type": "code",
   "execution_count": null,
   "metadata": {},
   "outputs": [],
   "source": [
    "\n",
    "# out_test_set = np.array(out_test_set, dtype=object).reshape(-3, IMG_SIZE, IMG_SIZE, 3)\n",
    "# out_test_set.shape\n",
    "# out_test_set = out_test_set.astype('float32')\n",
    "# # out_test_set = (out_test_set- np.mean(out_test_set)) / np.std(out_test_set)"
   ]
  },
  {
   "cell_type": "code",
   "execution_count": null,
   "metadata": {},
   "outputs": [],
   "source": [
    "out_test_set.shape"
   ]
  },
  {
   "cell_type": "code",
   "execution_count": null,
   "metadata": {},
   "outputs": [],
   "source": [
    "out_test_set[1].shape"
   ]
  },
  {
   "cell_type": "code",
   "execution_count": null,
   "metadata": {},
   "outputs": [],
   "source": [
    "# for x in range(0,5):\n",
    "\n",
    "\n",
    "    \n",
    "#     out_test_set[1].shape\n",
    "#     image = np.expand_dims(\n",
    "#         (out_test_set[x] - np.mean(out_test_set)) / np.std(out_test_set), axis=0)\n",
    "\n",
    "\n",
    "\n",
    "#     plt.imshow(out_test_set[x])\n",
    "#     plt.show()\n",
    "\n",
    "\n",
    "#     out = model.predict(out_test_set[x].reshape(-3, IMG_SIZE,IMG_SIZE, 3))\n",
    "#     out = np.argmax(out)\n",
    "\n",
    "\n",
    "#     if out == 0:\n",
    "#         print(\"out is cardboard\")\n",
    "#     elif out == 1:\n",
    "#         print(\"out is glass\")\n",
    "#     elif out == 2:\n",
    "#         print(\"out is metal\")\n",
    "#     elif out == 3:\n",
    "#         print(\"out is paper\")\n",
    "\n",
    "#     else:\n",
    "        print(\"out is plastic\")"
   ]
  }
 ],
 "metadata": {
  "kernelspec": {
   "display_name": "Python 3.10.7 64-bit",
   "language": "python",
   "name": "python3"
  },
  "language_info": {
   "codemirror_mode": {
    "name": "ipython",
    "version": 3
   },
   "file_extension": ".py",
   "mimetype": "text/x-python",
   "name": "python",
   "nbconvert_exporter": "python",
   "pygments_lexer": "ipython3",
   "version": "3.10.7"
  },
  "orig_nbformat": 4,
  "vscode": {
   "interpreter": {
    "hash": "df95319d8ce4e1d89f5365ae10992bc1f65da593082b1d264e8f529830ec2f02"
   }
  }
 },
 "nbformat": 4,
 "nbformat_minor": 2
}
